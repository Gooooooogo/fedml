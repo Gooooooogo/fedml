{
 "cells": [
  {
   "cell_type": "code",
   "execution_count": null,
   "metadata": {},
   "outputs": [],
   "source": [
    "import fedfastslowmo\n",
    "import fedslowmo\n",
    "import fedmon\n",
    "import fednag\n",
    "import math\n",
    "import tools"
   ]
  },
  {
   "cell_type": "code",
   "execution_count": null,
   "metadata": {},
   "outputs": [],
   "source": [
    "chs=[3,6,9]"
   ]
  },
  {
   "cell_type": "code",
   "execution_count": null,
   "metadata": {},
   "outputs": [],
   "source": [
    "for ch in chs:\n",
    "    result=fedfastslowmo.main_fedfastslowmon('cnn',0.01,0.5,True,40,25,4,64,'nll_loss','mnist',0.5,ch)\n",
    "    sheetname='Fastslowmo_ch_'+str(ch)\n",
    "    tools.save2excel_batch('result_all_noniid.xlsx',sheetname,result)\n"
   ]
  },
  {
   "cell_type": "code",
   "execution_count": null,
   "metadata": {},
   "outputs": [],
   "source": [
    "for ch in chs:\n",
    "          results=fedslowmo.main_fedslowmon('cnn',0.01,0,False,40,25,4,64,'nll_loss','mnist',0.5,ch)\n",
    "          sheetname='Slowmo_ch_'+str(ch)\n",
    "          tools.save2excel_batch('result_all_noniid.xlsx',sheetname,results)"
   ]
  },
  {
   "cell_type": "code",
   "execution_count": null,
   "metadata": {},
   "outputs": [],
   "source": [
    "for ch in chs:\n",
    "        results=fedmon.main_fedmon('cnn',0.01,0,False,40,25,4,64,'nll_loss','mnist',0.5,ch)\n",
    "        sheetname='Mo_ch_'+str(ch)\n",
    "        tools.save2excel_batch('result_all_noniid.xlsx',sheetname,results)"
   ]
  },
  {
   "cell_type": "code",
   "execution_count": null,
   "metadata": {},
   "outputs": [],
   "source": [
    "for ch in chs:\n",
    "        results=fednag.main_nag('cnn',0.01,0.5,True,40,25,4,64,'nll_loss','mnist',0.5,ch)\n",
    "        sheetname='Nag_ch_'+str(ch)\n",
    "        tools.save2excel_batch('result_all_noniid.xlsx',sheetname,results)"
   ]
  },
  {
   "cell_type": "code",
   "execution_count": null,
   "metadata": {},
   "outputs": [],
   "source": [
    "for ch in chs:\n",
    "        results=fednag.main_nag('cnn',0.01,0,False,40,25,4,64,'nll_loss','mnist',0.5,ch)\n",
    "        sheetname='Avg_ch_'+str(ch)\n",
    "        tools.save2excel_batch('result_all_noniid.xlsx',sheetname,results)"
   ]
  }
 ],
 "metadata": {
  "language_info": {
   "name": "python"
  }
 },
 "nbformat": 4,
 "nbformat_minor": 2
}
