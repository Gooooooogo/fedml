{
 "cells": [
  {
   "cell_type": "code",
   "execution_count": null,
   "metadata": {},
   "outputs": [],
   "source": [
    "import fedfastslowmo\n",
    "import fedslowmo\n",
    "import fedmon\n",
    "import fednag\n",
    "import math\n",
    "import tools"
   ]
  },
  {
   "cell_type": "code",
   "execution_count": null,
   "metadata": {},
   "outputs": [],
   "source": [
    "T=[10,20,40,80,160]\n",
    "N=[2,4,8,16]\n",
    "i=0\n",
    "j=0"
   ]
  },
  {
   "cell_type": "code",
   "execution_count": null,
   "metadata": {},
   "outputs": [],
   "source": [
    "result=fedfastslowmo.main_fedfastslowmon('cnn',0.01,0.5,True,math.ceil(1000/T[i]),T[i],N[j],64,'nll_loss','mnist',0.5)\n",
    "sheetname='Fastslowmo_'+str(N[j])+'_'+str(T[i])\n",
    "tools.save2excel('result_N_T.xlsx',sheetname,result)"
   ]
  }
 ],
 "metadata": {
  "language_info": {
   "name": "python"
  },
  "orig_nbformat": 4
 },
 "nbformat": 4,
 "nbformat_minor": 2
}
