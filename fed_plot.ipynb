{
 "cells": [
  {
   "cell_type": "code",
   "execution_count": null,
   "metadata": {},
   "outputs": [],
   "source": [
    "import matplotlib.pyplot as plt\n",
    "import pandas as pd\n",
    "\n",
    "# 读取Excel文件\n",
    "xls_file = pd.ExcelFile('result_all.xlsx')\n",
    "\n",
    "# 获取所有sheet的名称\n",
    "sheet_names = xls_file.sheet_names\n",
    "\n",
    "# 初始化存储第二列和第五列数据的字典\n",
    "sheet_data = {}\n",
    "\n",
    "for sheet_name in sheet_names:\n",
    "    # 读取特定sheet的数据\n",
    "    df = pd.read_excel(xls_file, sheet_name=sheet_name)\n",
    "    \n",
    "    # 获取第二列和第五列的数据\n",
    "    column2_data = df.iloc[:, 1].tolist()  # 第二列\n",
    "    column4_data = df.iloc[:, 3].tolist()  # 第四列\n",
    "    column5_data = df.iloc[:, 4].tolist()\n",
    "    # 存储数据\n",
    "    sheet_data[sheet_name] = {\n",
    "        'column2': column2_data,\n",
    "        'column4': column4_data,\n",
    "        'column5': column5_data\n",
    "    }\n",
    "\n",
    "\n",
    "plt.figure(figsize=(8, 6))  # 设置图形大小\n",
    "plt.plot(sheet_data['mnist_linear_nag']['column2'], sheet_data['mnist_linear_nag']['column4'], label='fednag', color='blue', linewidth=1)  # 绘制折线图\n",
    "plt.plot(sheet_data['mnist_linear_avg']['column2'], sheet_data['mnist_linear_avg']['column4'], label='fedavg', color='red', linewidth=1)  # 绘制折线图\n",
    "plt.title('Simple Line Plot in PyTorch')  # 设置标题\n",
    "plt.xlabel('Total iteration')  # 设置X轴标签\n",
    "plt.ylabel('gloabal loss')  # 设置Y轴标签\n",
    "plt.legend()  # 显示图例\n",
    "plt.grid(True)  # 显示网格线\n",
    "plt.show()  # 显示图形\n",
    "\n",
    "\n",
    "\n",
    "\n",
    "plt.figure(figsize=(8, 6))  # 设置图形大小\n",
    "plt.plot(sheet_data['mnist_linear_nag']['column2'], sheet_data['mnist_linear_nag']['column5'], label='fednag', color='blue', linewidth=1)  # 绘制折线图\n",
    "plt.plot(sheet_data['mnist_linear_avg']['column2'], sheet_data['mnist_linear_avg']['column5'], label='fedavg', color='red', linewidth=1)  # 绘制折线图\n",
    "plt.title('Simple Line Plot in PyTorch')  # 设置标题\n",
    "plt.xlabel('Total iteration')  # 设置X轴标签\n",
    "plt.ylabel('acc')  # 设置Y轴标签\n",
    "plt.legend()  # 显示图例\n",
    "plt.grid(True)  # 显示网格线\n",
    "plt.show()  # 显示图形\n",
    "\n",
    "\n"
   ]
  },
  {
   "cell_type": "code",
   "execution_count": 21,
   "metadata": {},
   "outputs": [
    {
     "name": "stdout",
     "output_type": "stream",
     "text": [
      "10\n",
      "7\n",
      "8\n",
      "2\n",
      "3\n"
     ]
    }
   ],
   "source": [
    "from torch.utils.data import DataLoader, random_split ,TensorDataset\n",
    "a=random_split([1,2,3,4,5,6,7,8,9,10],[5,5])\n",
    "for i in a[0] :\n",
    "    print(i)"
   ]
  }
 ],
 "metadata": {
  "kernelspec": {
   "display_name": "base",
   "language": "python",
   "name": "python3"
  },
  "language_info": {
   "codemirror_mode": {
    "name": "ipython",
    "version": 3
   },
   "file_extension": ".py",
   "mimetype": "text/x-python",
   "name": "python",
   "nbconvert_exporter": "python",
   "pygments_lexer": "ipython3",
   "version": "3.9.17"
  },
  "orig_nbformat": 4
 },
 "nbformat": 4,
 "nbformat_minor": 2
}
